{
 "cells": [
  {
   "cell_type": "markdown",
   "id": "56c78b71",
   "metadata": {},
   "source": [
    "Q1. Describe three applications for exception processing.\n",
    "\n",
    "Q2. What happens if you don&#39;t do something extra to treat an exception?\n",
    "\n",
    "Q3. What are your options for recovering from an exception in your script?\n",
    "\n",
    "Q4. Describe two methods for triggering exceptions in your script.\n",
    "\n",
    "Q5. Identify two methods for specifying actions to be executed at termination time, regardless of\n",
    "whether or not an exception exists.\n",
    "# 1\n",
    "Exception processing is an important aspect of programming that allows for the handling of exceptional situations or errors that may occur during the execution of a program. Here are three common applications for exception processing:\n",
    "\n",
    "Error Handling: Exceptions are commonly used for error handling in a program. When an error occurs, such as a runtime error or an invalid operation, an exception is raised, indicating that something unexpected has happened. By catching and handling exceptions, you can gracefully handle these errors and prevent your program from crashing. Exception handling allows you to display informative error messages, log errors, perform cleanup operations, or take alternative actions to recover from the error.\n",
    "\n",
    "Input Validation: Exception processing is often used for input validation. When accepting user input, it's essential to validate and ensure that it meets certain criteria or constraints. For example, if you expect a user to enter a numeric value, but they provide a non-numeric input, you can raise an exception to indicate that the input is invalid. By catching and handling these exceptions, you can prompt the user to correct their input, display error messages, or provide default values.\n",
    "\n",
    "Resource Management: Exception handling is crucial for managing resources such as files, network connections, or database connections. When working with external resources, exceptions can occur during file operations, network communications, or database queries. Proper exception handling ensures that these resources are properly released or closed, even in the event of an error. By catching exceptions related to resource management, you can ensure the cleanup and deallocation of resources, preventing resource leaks and maintaining the integrity of your program.\n",
    "\n",
    "Exception processing provides a structured and controlled way to handle exceptional situations, enabling robust and reliable software. It allows for the detection and recovery from errors, input validation, and proper resource management, leading to more stable and maintainable code.\n",
    "# 2\n",
    "If you don't handle an exception or perform any additional actions to treat it, the exception will propagate up the call stack until it reaches the top-level of your program or an outer exception handler that can handle it. In this case, the default behavior is for the program to terminate, and an error message is displayed, indicating the unhandled exception.\n",
    "\n",
    "When an exception is not handled, it leads to what is known as an unhandled exception or an uncaught exception. The program's execution is halted, and a traceback is displayed, showing the sequence of function calls that led to the exception. This traceback provides valuable information about the location and cause of the exception, which can be helpful for debugging purposes.\n",
    "\n",
    "Additionally, when an exception is not handled, it can have unintended consequences, such as leaving resources open or in an inconsistent state. It can also result in data corruption or unexpected behavior if the program continues execution without properly handling the exception.\n",
    "\n",
    "To ensure proper exception handling, it is recommended to use try-except blocks to catch and handle exceptions appropriately. By handling exceptions, you can control the program's flow, provide error messages or logging, perform cleanup operations, or take alternative actions based on the specific exception that occurred. Handling exceptions helps in maintaining the stability and reliability of your program.\n",
    "# 3\n",
    "When recovering from an exception in your script, you have several options to consider. The appropriate option depends on the nature of the exception and the desired behavior of your program. Here are some common options for recovering from an exception:\n",
    "\n",
    "Retry: If the exception is related to a temporary or intermittent condition, you can choose to retry the operation that raised the exception. This can be done by placing the code that may raise the exception inside a loop and adding logic to retry the operation until it succeeds or a maximum number of attempts is reached.\n",
    "\n",
    "Graceful Termination: In some cases, it may be appropriate to gracefully terminate the program when an exception occurs. This can involve logging the error, displaying an error message to the user, and performing any necessary cleanup operations before exiting the program.\n",
    "\n",
    "Exception Transformation: Sometimes, you may want to transform one type of exception into another type to better align with the error handling strategy or the requirements of the calling code. This can be done by catching the original exception, creating a new exception object of a different type, and raising the new exception with relevant information.\n",
    "\n",
    "Alternative Path: Depending on the situation, you may choose to take an alternative path when an exception occurs. This can involve executing a different set of instructions, using default values, or falling back to a backup plan. By catching the exception and redirecting the program's flow, you can ensure that your script can continue execution despite the exception.\n",
    "\n",
    "Graceful Degradation: If the exception affects a non-critical part of your program, you can choose to handle the exception without disrupting the overall functionality. This can involve isolating the exception, continuing execution, and providing fallback options or alternative behavior.\n",
    "\n",
    "Exception Suppression: In some cases, you may want to suppress an exception intentionally, for example, if you have already taken appropriate action to handle it or if it is not crucial to the program's execution. This can be done by catching the exception and not performing any further actions or re-raising it.\n",
    "\n",
    "The choice of recovery option depends on the specific scenario, the impact of the exception on your program, and the desired behavior. It's important to carefully consider the potential consequences and design your exception handling strategy accordingly\n",
    "# 4\n",
    "Q4. Two methods for triggering exceptions in your script are:\n",
    "\n",
    "Raise an Exception Manually: You can explicitly raise an exception using the raise statement. This allows you to trigger an exception at any point in your script based on certain conditions or criteria that you define. You can raise built-in exceptions such as ValueError, TypeError, or create your own custom exceptions by creating a new class that inherits from the Exception class or its subclasses.\n",
    "\n",
    "Here's an example of manually raising an exception:"
   ]
  },
  {
   "cell_type": "code",
   "execution_count": 3,
   "id": "d00482d3",
   "metadata": {},
   "outputs": [
    {
     "ename": "ValueError",
     "evalue": "Invalid value detected.",
     "output_type": "error",
     "traceback": [
      "\u001b[1;31m---------------------------------------------------------------------------\u001b[0m",
      "\u001b[1;31mValueError\u001b[0m                                Traceback (most recent call last)",
      "Cell \u001b[1;32mIn[3], line 3\u001b[0m\n\u001b[0;32m      1\u001b[0m some_condition \u001b[38;5;241m=\u001b[39m \u001b[38;5;28;01mTrue\u001b[39;00m  \u001b[38;5;66;03m# Define some_condition before using it\u001b[39;00m\n\u001b[0;32m      2\u001b[0m \u001b[38;5;28;01mif\u001b[39;00m some_condition:\n\u001b[1;32m----> 3\u001b[0m     \u001b[38;5;28;01mraise\u001b[39;00m \u001b[38;5;167;01mValueError\u001b[39;00m(\u001b[38;5;124m\"\u001b[39m\u001b[38;5;124mInvalid value detected.\u001b[39m\u001b[38;5;124m\"\u001b[39m)\n",
      "\u001b[1;31mValueError\u001b[0m: Invalid value detected."
     ]
    }
   ],
   "source": [
    "some_condition = True  # Define some_condition before using it\n",
    "if some_condition:\n",
    "    raise ValueError(\"Invalid value detected.\")\n"
   ]
  },
  {
   "cell_type": "markdown",
   "id": "c8e66f18",
   "metadata": {},
   "source": [
    "In this example, if the some_condition evaluates to True, a ValueError exception is raised with the specified error message.\n",
    "\n",
    "Invoking Functions or Methods that Raise Exceptions: Another method for triggering exceptions is by invoking functions or methods that are designed to raise exceptions under certain conditions. Many built-in Python functions and methods can raise exceptions to indicate errors or exceptional situations. For example, the open() function raises a FileNotFoundError if the specified file does not exist, and the index() method of a string raises a ValueError if the specified substring is not found.\n",
    "\n",
    "Here's an example:"
   ]
  },
  {
   "cell_type": "code",
   "execution_count": 2,
   "id": "ec8616d4",
   "metadata": {},
   "outputs": [
    {
     "name": "stdout",
     "output_type": "stream",
     "text": [
      "File 'text.txt' not found.\n"
     ]
    }
   ],
   "source": [
    "filename = \"text.txt\"\n",
    "try:\n",
    "    file = open(filename, \"r\")\n",
    "except FileNotFoundError:\n",
    "    print(f\"File '{filename}' not found.\")\n"
   ]
  },
  {
   "cell_type": "markdown",
   "id": "8cd5283a",
   "metadata": {},
   "source": [
    "# 5\n",
    "Q5. Two methods for specifying actions to be executed at termination time, regardless of whether or not an exception exists are:\n",
    "\n",
    "Finally Blocks with try-except-finally: The finally block is used in conjunction with the try-except block to specify code that should be executed regardless of whether an exception occurs or not. The code in the finally block is guaranteed to run before the control leaves the try-except-finally construct. This is useful for performing cleanup operations, closing resources, or releasing acquired locks.\n",
    "\n",
    "Here's an example:"
   ]
  },
  {
   "cell_type": "code",
   "execution_count": 4,
   "id": "80ec6e61",
   "metadata": {},
   "outputs": [
    {
     "name": "stdout",
     "output_type": "stream",
     "text": [
      "File not found.\n"
     ]
    }
   ],
   "source": [
    "file = None\n",
    "try:\n",
    "    file = open(\"data.txt\", \"r\")\n",
    "    # Perform some operations on the file\n",
    "except FileNotFoundError:\n",
    "    print(\"File not found.\")\n",
    "finally:\n",
    "    if file is not None:\n",
    "        file.close()\n"
   ]
  },
  {
   "cell_type": "markdown",
   "id": "f6b0d7f0",
   "metadata": {},
   "source": [
    "In this example, the finally block ensures that the file is closed regardless of whether an exception occurs during the try block.\n",
    "\n",
    "Context Managers using the with statement: The with statement is used to create a context manager, which automatically takes care of resource acquisition and release. Context managers are typically used with objects that require setup and teardown operations. The with statement guarantees that the __exit__() method of the context manager will be called, even if an exception occurs within the block.\n",
    "\n",
    "Here's an example:"
   ]
  },
  {
   "cell_type": "code",
   "execution_count": 7,
   "id": "e4667b3c",
   "metadata": {},
   "outputs": [
    {
     "ename": "FileNotFoundError",
     "evalue": "[Errno 2] No such file or directory: 'text.txt'",
     "output_type": "error",
     "traceback": [
      "\u001b[1;31m---------------------------------------------------------------------------\u001b[0m",
      "\u001b[1;31mFileNotFoundError\u001b[0m                         Traceback (most recent call last)",
      "Cell \u001b[1;32mIn[7], line 1\u001b[0m\n\u001b[1;32m----> 1\u001b[0m \u001b[38;5;28;01mwith\u001b[39;00m \u001b[38;5;28;43mopen\u001b[39;49m\u001b[43m(\u001b[49m\u001b[38;5;124;43m\"\u001b[39;49m\u001b[38;5;124;43mtext.txt\u001b[39;49m\u001b[38;5;124;43m\"\u001b[39;49m\u001b[43m,\u001b[49m\u001b[43m \u001b[49m\u001b[38;5;124;43m\"\u001b[39;49m\u001b[38;5;124;43mr\u001b[39;49m\u001b[38;5;124;43m\"\u001b[39;49m\u001b[43m)\u001b[49m \u001b[38;5;28;01mas\u001b[39;00m file:\n\u001b[0;32m      2\u001b[0m     Print(\u001b[38;5;124m\"\u001b[39m\u001b[38;5;124miAM nikita\u001b[39m\u001b[38;5;124m\"\u001b[39m)\n",
      "File \u001b[1;32m~\\anaconda3\\lib\\site-packages\\IPython\\core\\interactiveshell.py:282\u001b[0m, in \u001b[0;36m_modified_open\u001b[1;34m(file, *args, **kwargs)\u001b[0m\n\u001b[0;32m    275\u001b[0m \u001b[38;5;28;01mif\u001b[39;00m file \u001b[38;5;129;01min\u001b[39;00m {\u001b[38;5;241m0\u001b[39m, \u001b[38;5;241m1\u001b[39m, \u001b[38;5;241m2\u001b[39m}:\n\u001b[0;32m    276\u001b[0m     \u001b[38;5;28;01mraise\u001b[39;00m \u001b[38;5;167;01mValueError\u001b[39;00m(\n\u001b[0;32m    277\u001b[0m         \u001b[38;5;124mf\u001b[39m\u001b[38;5;124m\"\u001b[39m\u001b[38;5;124mIPython won\u001b[39m\u001b[38;5;124m'\u001b[39m\u001b[38;5;124mt let you open fd=\u001b[39m\u001b[38;5;132;01m{\u001b[39;00mfile\u001b[38;5;132;01m}\u001b[39;00m\u001b[38;5;124m by default \u001b[39m\u001b[38;5;124m\"\u001b[39m\n\u001b[0;32m    278\u001b[0m         \u001b[38;5;124m\"\u001b[39m\u001b[38;5;124mas it is likely to crash IPython. If you know what you are doing, \u001b[39m\u001b[38;5;124m\"\u001b[39m\n\u001b[0;32m    279\u001b[0m         \u001b[38;5;124m\"\u001b[39m\u001b[38;5;124myou can use builtins\u001b[39m\u001b[38;5;124m'\u001b[39m\u001b[38;5;124m open.\u001b[39m\u001b[38;5;124m\"\u001b[39m\n\u001b[0;32m    280\u001b[0m     )\n\u001b[1;32m--> 282\u001b[0m \u001b[38;5;28;01mreturn\u001b[39;00m io_open(file, \u001b[38;5;241m*\u001b[39margs, \u001b[38;5;241m*\u001b[39m\u001b[38;5;241m*\u001b[39mkwargs)\n",
      "\u001b[1;31mFileNotFoundError\u001b[0m: [Errno 2] No such file or directory: 'text.txt'"
     ]
    }
   ],
   "source": [
    "with open(\"text.txt\", \"r\") as file:\n",
    "    Print(\"iAM nikita\")\n"
   ]
  },
  {
   "cell_type": "code",
   "execution_count": null,
   "id": "39520854",
   "metadata": {},
   "outputs": [],
   "source": []
  }
 ],
 "metadata": {
  "kernelspec": {
   "display_name": "Python 3 (ipykernel)",
   "language": "python",
   "name": "python3"
  },
  "language_info": {
   "codemirror_mode": {
    "name": "ipython",
    "version": 3
   },
   "file_extension": ".py",
   "mimetype": "text/x-python",
   "name": "python",
   "nbconvert_exporter": "python",
   "pygments_lexer": "ipython3",
   "version": "3.10.9"
  }
 },
 "nbformat": 4,
 "nbformat_minor": 5
}
