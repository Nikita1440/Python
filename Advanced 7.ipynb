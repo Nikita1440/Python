{
 "cells": [
  {
   "cell_type": "markdown",
   "id": "46077174",
   "metadata": {},
   "source": [
    "Q1. What is the purpose of the try statement?\n",
    "\n",
    "Q2. What are the two most popular try statement variations?\n",
    "\n",
    "Q3. What is the purpose of the raise statement?\n",
    "\n",
    "Q4. What does the assert statement do, and what other statement is it like?\n",
    "\n",
    "Q5. What is the purpose of the with/as argument, and what other statement is it like?\n",
    "# 1\n",
    "Q1. The purpose of the try statement in Python is to handle exceptions and gracefully manage potential errors that may occur during the execution of a block of code. It allows you to specify a section of code that might raise an exception and define how to handle that exception if it occurs.\n",
    "\n",
    "The general structure of a try statement is as follows:\n",
    "The try block contains the code that is potentially susceptible to exceptions. If an exception is raised within the try block, it is caught by the appropriate except block based on the type of the exception. The except block specifies how to handle a particular type of exception.\n",
    "\n",
    "The try statement provides a structured way to handle exceptions and maintain control over program flow, ensuring that unexpected errors are properly handled without causing the program to terminate abruptly."
   ]
  },
  {
   "cell_type": "code",
   "execution_count": 4,
   "id": "b156697e",
   "metadata": {},
   "outputs": [
    {
     "ename": "IndentationError",
     "evalue": "expected an indented block after 'try' statement on line 1 (3044417426.py, line 3)",
     "output_type": "error",
     "traceback": [
      "\u001b[1;36m  Cell \u001b[1;32mIn[4], line 3\u001b[1;36m\u001b[0m\n\u001b[1;33m    except ExceptionType1:\u001b[0m\n\u001b[1;37m    ^\u001b[0m\n\u001b[1;31mIndentationError\u001b[0m\u001b[1;31m:\u001b[0m expected an indented block after 'try' statement on line 1\n"
     ]
    }
   ],
   "source": [
    "try:\n",
    "    # Code block where exceptions might occur\n",
    "except ExceptionType1:\n",
    "    # Exception handling code for ExceptionType1\n",
    "except ExceptionType2:\n",
    "    # Exception handling code for ExceptionType2\n",
    "else:\n",
    "    # Code to be executed if no exceptions occur in the try block\n",
    "finally:\n",
    "    # Code to be executed regardless of whether an exception occurred or not\n"
   ]
  },
  {
   "cell_type": "markdown",
   "id": "d532cbb7",
   "metadata": {},
   "source": [
    "# 2\n",
    "try-except statement: This is the most common and widely used variation of the try statement. It consists of a try block followed by one or more except blocks. The try block contains the code that may raise an exception, and the except block(s) specify how to handle specific exceptions that may occur.\n",
    "\n",
    "Here's an example:\n",
    "\n",
    "\n",
    "try:\n",
    "    # Code that may raise an exception\n",
    "except ExceptionType1:\n",
    "    # Exception handling code for ExceptionType1\n",
    "except ExceptionType2:\n",
    "    # Exception handling code for ExceptionType2\n",
    "In this variation, each except block catches a specific type of exception and defines the actions to be taken when that exception occurs.\n",
    "\n",
    "try-finally statement: This variation consists of a try block followed by a finally block. The try block contains the code that may raise an exception, and the finally block specifies code that is always executed, regardless of whether an exception occurred or not.\n",
    "\n",
    "Here's an example:\n",
    "\n",
    "\n",
    "try:\n",
    "    # Code that may raise an exception\n",
    "finally:\n",
    "    # Code to be executed regardless of whether an exception occurred or not\n",
    "The finally block is used to specify cleanup operations or actions that must be performed, such as closing files or releasing resources, regardless of whether an exception occurred or not. It ensures that the specified code is executed even if an exception is raised and not caught in the try block.\n",
    "\n",
    "These two variations of the try statement provide different functionalities for handling exceptions and ensuring proper execution of code, depending on the specific requirements of your program.\n",
    "# 3\n",
    "The raise statement in Python is used to explicitly raise an exception during the execution of a program. It allows you to create and trigger exceptions based on certain conditions or criteria defined in your code.\n",
    "\n",
    "The main purpose of the raise statement is to signal that an exceptional condition has occurred and propagate that information to the surrounding code for appropriate handling. When you raise an exception, you interrupt the normal flow of the program and transfer control to an exception handler that can handle the raised exception.\n",
    "\n",
    "The raise statement can be used in different scenarios, such as:\n",
    "\n",
    "Raising built-in exceptions: You can use the raise statement to raise built-in exceptions like ValueError, TypeError, IndexError, etc., when you encounter specific error conditions in your code.\n",
    "\n",
    "Example:"
   ]
  },
  {
   "cell_type": "code",
   "execution_count": 8,
   "id": "68560b8a",
   "metadata": {},
   "outputs": [
    {
     "ename": "ValueError",
     "evalue": "Invalid value: x should be positive.",
     "output_type": "error",
     "traceback": [
      "\u001b[1;31m---------------------------------------------------------------------------\u001b[0m",
      "\u001b[1;31mValueError\u001b[0m                                Traceback (most recent call last)",
      "Cell \u001b[1;32mIn[8], line 3\u001b[0m\n\u001b[0;32m      1\u001b[0m x\u001b[38;5;241m=\u001b[39m \u001b[38;5;241m-\u001b[39m\u001b[38;5;241m2\u001b[39m\n\u001b[0;32m      2\u001b[0m \u001b[38;5;28;01mif\u001b[39;00m x \u001b[38;5;241m<\u001b[39m \u001b[38;5;241m0\u001b[39m:\n\u001b[1;32m----> 3\u001b[0m     \u001b[38;5;28;01mraise\u001b[39;00m \u001b[38;5;167;01mValueError\u001b[39;00m(\u001b[38;5;124m\"\u001b[39m\u001b[38;5;124mInvalid value: x should be positive.\u001b[39m\u001b[38;5;124m\"\u001b[39m)\n",
      "\u001b[1;31mValueError\u001b[0m: Invalid value: x should be positive."
     ]
    }
   ],
   "source": [
    "x= -2\n",
    "if x < 0:\n",
    "    raise ValueError(\"Invalid value: x should be positive.\")\n"
   ]
  },
  {
   "cell_type": "markdown",
   "id": "46cdd840",
   "metadata": {},
   "source": [
    "Raising custom exceptions: You can define your own exception classes by creating a subclass of the Exception class or any other existing exception class. Then, you can raise instances of your custom exception classes using the raise statement to indicate specific error conditions in your code.\n",
    "\n",
    "Example:"
   ]
  },
  {
   "cell_type": "code",
   "execution_count": 10,
   "id": "9467953e",
   "metadata": {},
   "outputs": [
    {
     "ename": "CustomException",
     "evalue": "An error occurred due to some_condition.",
     "output_type": "error",
     "traceback": [
      "\u001b[1;31m---------------------------------------------------------------------------\u001b[0m",
      "\u001b[1;31mCustomException\u001b[0m                           Traceback (most recent call last)",
      "Cell \u001b[1;32mIn[10], line 5\u001b[0m\n\u001b[0;32m      3\u001b[0m x\u001b[38;5;241m=\u001b[39m \u001b[38;5;241m10\u001b[39m\n\u001b[0;32m      4\u001b[0m \u001b[38;5;28;01mif\u001b[39;00m x\u001b[38;5;241m>\u001b[39m\u001b[38;5;241m5\u001b[39m:\n\u001b[1;32m----> 5\u001b[0m     \u001b[38;5;28;01mraise\u001b[39;00m CustomException(\u001b[38;5;124m\"\u001b[39m\u001b[38;5;124mAn error occurred due to some_condition.\u001b[39m\u001b[38;5;124m\"\u001b[39m)\n",
      "\u001b[1;31mCustomException\u001b[0m: An error occurred due to some_condition."
     ]
    }
   ],
   "source": [
    "class CustomException(Exception):\n",
    "    pass\n",
    "x= 10\n",
    "if x>5:\n",
    "    raise CustomException(\"An error occurred due to some_condition.\")\n"
   ]
  },
  {
   "cell_type": "markdown",
   "id": "ee5894fc",
   "metadata": {},
   "source": [
    "# 4\n",
    "he assert statement in Python is used to perform sanity checks in your code. It allows you to test conditions and raise an AssertionError exception if the condition evaluates to False. The assert statement helps you catch programming errors and ensure that certain assumptions or invariants hold true during the execution of your program.\n",
    "\n",
    "The syntax of the assert statement is as follows:\n",
    "\n",
    "python\n",
    "Copy code\n",
    "assert condition, [message]\n",
    "condition is the expression that is evaluated and tested. If the condition is False, an AssertionError is raised.\n",
    "message is an optional argument that provides additional information about the assertion failure. It can be used to provide a custom error message for better diagnostics.\n",
    "Here's an example:"
   ]
  },
  {
   "cell_type": "code",
   "execution_count": 12,
   "id": "1b0160d4",
   "metadata": {},
   "outputs": [
    {
     "ename": "AssertionError",
     "evalue": "x should be a positive number",
     "output_type": "error",
     "traceback": [
      "\u001b[1;31m---------------------------------------------------------------------------\u001b[0m",
      "\u001b[1;31mAssertionError\u001b[0m                            Traceback (most recent call last)",
      "Cell \u001b[1;32mIn[12], line 2\u001b[0m\n\u001b[0;32m      1\u001b[0m x \u001b[38;5;241m=\u001b[39m \u001b[38;5;241m-\u001b[39m\u001b[38;5;241m2\u001b[39m\n\u001b[1;32m----> 2\u001b[0m \u001b[38;5;28;01massert\u001b[39;00m x \u001b[38;5;241m>\u001b[39m \u001b[38;5;241m0\u001b[39m, \u001b[38;5;124m\"\u001b[39m\u001b[38;5;124mx should be a positive number\u001b[39m\u001b[38;5;124m\"\u001b[39m\n",
      "\u001b[1;31mAssertionError\u001b[0m: x should be a positive number"
     ]
    }
   ],
   "source": [
    "x = -2\n",
    "assert x > 0, \"x should be a positive number\"\n"
   ]
  },
  {
   "cell_type": "markdown",
   "id": "9ee815ff",
   "metadata": {},
   "source": [
    "# 5\n",
    "The with/as statement in Python is used for context management. It provides a convenient way to manage resources, such as files or network connections, by automatically taking care of resource acquisition and release. The with statement ensures that the necessary setup and cleanup actions are performed reliably, even if exceptions occur within the block of code.\n",
    "\n",
    "The syntax of the with/as statement is as follows:\n",
    "\n",
    "python\n",
    "Copy code\n",
    "with expression as variable:\n",
    "    # Code block\n",
    "expression is an object that represents a resource that needs to be managed. It should return a context manager object, which is an object that defines the methods __enter__() and __exit__().\n",
    "variable is an optional variable that captures the result of the __enter__() method of the context manager. It allows you to access the managed resource within the block of code."
   ]
  },
  {
   "cell_type": "code",
   "execution_count": 19,
   "id": "7154b900",
   "metadata": {},
   "outputs": [
    {
     "name": "stdout",
     "output_type": "stream",
     "text": [
      "\n"
     ]
    }
   ],
   "source": [
    "with open(\"test.txt\", \"r\") as file:\n",
    "    print()\n",
    "\n"
   ]
  },
  {
   "cell_type": "code",
   "execution_count": null,
   "id": "5df96113",
   "metadata": {},
   "outputs": [],
   "source": []
  }
 ],
 "metadata": {
  "kernelspec": {
   "display_name": "Python 3 (ipykernel)",
   "language": "python",
   "name": "python3"
  },
  "language_info": {
   "codemirror_mode": {
    "name": "ipython",
    "version": 3
   },
   "file_extension": ".py",
   "mimetype": "text/x-python",
   "name": "python",
   "nbconvert_exporter": "python",
   "pygments_lexer": "ipython3",
   "version": "3.10.9"
  }
 },
 "nbformat": 4,
 "nbformat_minor": 5
}
