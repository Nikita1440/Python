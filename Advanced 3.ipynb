{
 "cells": [
  {
   "cell_type": "markdown",
   "id": "1d1a907e",
   "metadata": {},
   "source": [
    "1. What is the concept of an abstract superclass?\n",
    "\n",
    "2. What happens when a class statement&#39;s top level contains a basic assignment statement?\n",
    "\n",
    "3. Why does a class need to manually call a superclass&#39;s __init__ method?\n",
    "\n",
    "4. How can you augment, instead of completely replacing, an inherited method?\n",
    "\n",
    "5. How is the local scope of a class different from that of a function?\n",
    "# 1\n",
    "The concept of an abstract superclass is a way to define a class that serves as a blueprint for its subclasses but cannot be instantiated on its own. An abstract superclass is also known as an abstract base class (ABC).\n",
    "\n",
    "An abstract superclass provides a common interface and defines common behaviors that its subclasses should implement. It typically contains abstract methods, which are method declarations without any implementation. Subclasses of the abstract superclass must provide concrete implementations for these abstract methods.\n",
    "\n",
    "The purpose of an abstract superclass is to establish a contract or set of requirements for its subclasses. It defines the essential methods and attributes that all subclasses should have, ensuring a consistent interface and behavior among related classes.\n",
    "\n",
    "In Python, abstract superclasses are created using the abc module, which stands for Abstract Base Classes. The abc module provides the ABC class and the abstractmethod decorator for defining abstract methods. By inheriting from ABC and using the abstractmethod decorator, a class can become an abstract superclass.\n",
    "\n",
    "Here's an example that demonstrates the concept of an abstract superclass:"
   ]
  },
  {
   "cell_type": "code",
   "execution_count": 2,
   "id": "86e6cc3f",
   "metadata": {},
   "outputs": [
    {
     "name": "stdout",
     "output_type": "stream",
     "text": [
      "15\n",
      "16\n",
      "50.24\n",
      "25.12\n"
     ]
    }
   ],
   "source": [
    "from abc import ABC, abstractmethod\n",
    "\n",
    "class Shape(ABC):\n",
    "    @abstractmethod\n",
    "    def area(self):\n",
    "        pass\n",
    "\n",
    "    @abstractmethod\n",
    "    def perimeter(self):\n",
    "        pass\n",
    "\n",
    "class Rectangle(Shape):\n",
    "    def __init__(self, width, height):\n",
    "        self.width = width\n",
    "        self.height = height\n",
    "\n",
    "    def area(self):\n",
    "        return self.width * self.height\n",
    "\n",
    "    def perimeter(self):\n",
    "        return 2 * (self.width + self.height)\n",
    "\n",
    "class Circle(Shape):\n",
    "    def __init__(self, radius):\n",
    "        self.radius = radius\n",
    "\n",
    "    def area(self):\n",
    "        return 3.14 * self.radius ** 2\n",
    "\n",
    "    def perimeter(self):\n",
    "        return 2 * 3.14 * self.radius\n",
    "\n",
    "# Creating instances of the concrete subclasses\n",
    "rectangle = Rectangle(5, 3)\n",
    "circle = Circle(4)\n",
    "\n",
    "# Calling the common methods defined in the abstract superclass\n",
    "print(rectangle.area())     # Output: 15\n",
    "print(rectangle.perimeter())  # Output: 16\n",
    "print(circle.area())        # Output: 50.24\n",
    "print(circle.perimeter())   # Output: 25.12\n",
    "\n"
   ]
  },
  {
   "cell_type": "markdown",
   "id": "cd725724",
   "metadata": {},
   "source": [
    "# 2\n",
    "When a class statement's top level contains a basic assignment statement, it creates a class-level variable or attribute. This class-level variable is shared by all instances of the class and can be accessed using either the class name or an instance of the class.\n",
    "In this example, the MyClass class has a class-level variable named class_variable defined at the top level of the class statement. This variable is accessible using the class name itself (MyClass.class_variable) or through instances of the class (instance1.class_variable and instance2.class_variable).\n",
    "\n",
    "The class-level variable is shared among all instances of the class. Any modifications made to the class-level variable will be reflected in all instances that access it.\n",
    "\n",
    "It's important to note that if an instance of the class has an instance variable with the same name as the class-level variable, the instance variable takes precedence over the class-level variable when accessing it through that specific instance."
   ]
  },
  {
   "cell_type": "code",
   "execution_count": 3,
   "id": "08c70961",
   "metadata": {},
   "outputs": [
    {
     "name": "stdout",
     "output_type": "stream",
     "text": [
      "This is a class-level variable\n",
      "Instance 1\n",
      "Instance 2\n",
      "Updated class-level variable\n",
      "Updated class-level variable\n"
     ]
    }
   ],
   "source": [
    "class MyClass:\n",
    "    class_variable = \"This is a class-level variable\"\n",
    "\n",
    "    def __init__(self, instance_variable):\n",
    "        self.instance_variable = instance_variable\n",
    "\n",
    "# Accessing the class-level variable\n",
    "print(MyClass.class_variable)  # Output: This is a class-level variable\n",
    "\n",
    "# Creating instances\n",
    "instance1 = MyClass(\"Instance 1\")\n",
    "instance2 = MyClass(\"Instance 2\")\n",
    "\n",
    "# Accessing instance variables\n",
    "print(instance1.instance_variable)  # Output: Instance 1\n",
    "print(instance2.instance_variable)  # Output: Instance 2\n",
    "\n",
    "# Modifying the class-level variable\n",
    "MyClass.class_variable = \"Updated class-level variable\"\n",
    "\n",
    "# Accessing the modified class-level variable through an instance\n",
    "print(instance1.class_variable)  # Output: Updated class-level variable\n",
    "print(instance2.class_variable)  # Output: Updated class-level variable\n"
   ]
  },
  {
   "cell_type": "markdown",
   "id": "0184053b",
   "metadata": {},
   "source": [
    "# 3\n",
    "In Python, when a class inherits from a superclass (also known as a parent class or base class), the subclass needs to explicitly call the superclass's __init__ method if it wants to initialize the inherited attributes and perform any necessary setup defined in the superclass.\n",
    "\n",
    "Here are the reasons why a class needs to manually call a superclass's __init__ method:\n",
    "\n",
    "Inheritance of attributes: By calling the superclass's __init__ method, the subclass ensures that it inherits any attributes initialized in the superclass. This allows the subclass to have access to and utilize the attributes defined in the superclass.\n",
    "\n",
    "Initialization of superclass-specific state: The superclass's __init__ method might perform specific initialization steps or set up the initial state of the superclass's objects. By calling the superclass's __init__ method, the subclass ensures that this initialization is properly executed, guaranteeing the correct setup of the superclass-specific state.\n",
    "\n",
    "Passing arguments: The superclass's __init__ method might expect certain arguments to be passed during initialization. By calling the superclass's __init__ method, the subclass ensures that these expected arguments are properly passed, allowing the superclass to handle them appropriately.\n",
    "\n",
    "By explicitly calling the superclass's __init__ method within the subclass's __init__ method, you ensure that the superclass's initialization logic is executed alongside the subclass's initialization logic. This helps maintain the integrity of the inheritance hierarchy, allows proper initialization of inherited attributes and state, and ensures the correct functioning of both the subclass and the superclass.\n",
    "# 4\n",
    "In Python, you can augment an inherited method in a subclass by using method overriding. Method overriding allows the subclass to provide its own implementation of a method inherited from the superclass while still retaining and extending the functionality of the superclass's method.\n",
    "\n",
    "To augment an inherited method, follow these steps:\n",
    "\n",
    "Define a method with the same name in the subclass that you want to augment. This is known as overriding the method.\n",
    "\n",
    "Within the subclass's method, you can call the superclass's version of the method using the super() function.\n",
    "\n",
    "Perform any additional operations or modifications specific to the subclass's implementation.\n",
    "\n",
    "Here's an example to illustrate the process:"
   ]
  },
  {
   "cell_type": "code",
   "execution_count": 5,
   "id": "22b4f103",
   "metadata": {},
   "outputs": [
    {
     "name": "stdout",
     "output_type": "stream",
     "text": [
      "Generic animal sound\n",
      "Generic animal sound\n",
      "Meow\n"
     ]
    }
   ],
   "source": [
    "class Animal:\n",
    "    def make_sound(self):\n",
    "        print(\"Generic animal sound\")\n",
    "\n",
    "class Cat(Animal):\n",
    "    def make_sound(self):\n",
    "        super().make_sound()  # Call the superclass's make_sound() method\n",
    "        print(\"Meow\")\n",
    "\n",
    "# Creating instances\n",
    "animal = Animal()\n",
    "cat = Cat()\n",
    "\n",
    "# Calling the make_sound() method\n",
    "animal.make_sound()  # Output: Generic animal sound\n",
    "cat.make_sound()    # Output: Generic animal sound\n",
    "                    #         Meow\n"
   ]
  },
  {
   "cell_type": "markdown",
   "id": "92457d3d",
   "metadata": {},
   "source": [
    "# 5\n",
    "The local scope of a class and a function in Python is different in terms of the variables and their accessibility. Here are some key differences:\n",
    "\n",
    "Variable accessibility: In a class, variables defined within methods (including the __init__ method) are accessible throughout the class. These variables are referred to as instance variables or attributes, and they can be accessed by using the self keyword. Instance variables are accessible by all methods within the class. In contrast, in a function, variables defined within the function are only accessible within that function's local scope. They cannot be accessed outside the function.\n",
    "\n",
    "Lifetime: Instance variables in a class exist as long as the instance of the class exists. They are created when an instance is created and are destroyed when the instance is garbage collected. Function variables, on the other hand, have a limited lifetime and are created when the function is called and destroyed when the function returns or finishes execution.\n",
    "\n",
    "Visibility: In a class, instance variables are visible to all methods within the class, allowing different methods to access and manipulate the same instance variables. In a function, local variables are only visible within that specific function's local scope and cannot be accessed by other functions or methods.\n",
    "\n",
    "Sharing values between methods: In a class, instance variables can be used to share values between different methods within the class. Methods can access and modify the same instance variables, allowing for data sharing and communication within the class. In a function, local variables are confined to the function's scope and cannot be directly shared between different functions.\n",
    "\n",
    "It's important to note that both classes and functions can also access variables from outer scopes, such as global variables or variables from enclosing function scopes, using the global or nonlocal keywords, respectively. However, the local scope within a class and a function refers to the variables specifically defined within that class or function.\n",
    "\n",
    "Overall, the local scope of a class and a function differ in terms of variable accessibility, lifetime, visibility, and the ability to share values between methods. Understanding these differences is crucial for writing effective and well-organized code."
   ]
  },
  {
   "cell_type": "code",
   "execution_count": null,
   "id": "402fc8ef",
   "metadata": {},
   "outputs": [],
   "source": []
  }
 ],
 "metadata": {
  "kernelspec": {
   "display_name": "Python 3 (ipykernel)",
   "language": "python",
   "name": "python3"
  },
  "language_info": {
   "codemirror_mode": {
    "name": "ipython",
    "version": 3
   },
   "file_extension": ".py",
   "mimetype": "text/x-python",
   "name": "python",
   "nbconvert_exporter": "python",
   "pygments_lexer": "ipython3",
   "version": "3.10.9"
  }
 },
 "nbformat": 4,
 "nbformat_minor": 5
}
