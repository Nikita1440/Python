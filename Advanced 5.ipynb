{
 "cells": [
  {
   "cell_type": "markdown",
   "id": "bee73274",
   "metadata": {},
   "source": [
    "Q1. What is the meaning of multiple inheritance?\n",
    "\n",
    "Q2. What is the concept of delegation?\n",
    "\n",
    "Q3. What is the concept of composition?\n",
    "\n",
    "Q4. What are bound methods and how do we use them?\n",
    "\n",
    "Q5. What is the purpose of pseudoprivate attributes?\n",
    "# 1\n",
    "Multiple inheritance refers to a feature in object-oriented programming languages where a class can inherit attributes and methods from multiple parent classes. In multiple inheritance, a subclass can inherit from more than one superclass, allowing it to acquire and combine the characteristics and behaviors of multiple parent classes.\n",
    "\n",
    "In a multiple inheritance scenario, the subclass inherits attributes and methods from all the parent classes, forming a hierarchy that includes multiple inheritance paths. This means that the subclass has access to the attributes and methods defined in each of its parent classes, including any common or overlapping attributes and methods.\n",
    "\n",
    "The main benefit of multiple inheritance is that it allows for code reuse and the combination of different traits or functionalities from multiple sources. It provides flexibility in creating classes with diverse characteristics by inheriting from multiple parent classes.\n",
    "\n",
    "However, multiple inheritance can also introduce challenges and complexities. For example, conflicts can arise when multiple parent classes define attributes or methods with the same name, leading to ambiguity. In such cases, explicit resolution or method overriding may be required to specify which attribute or method to use. Careful design and management of the class hierarchy are necessary to handle these potential conflicts and ensure clarity and maintainability in the codebase.\n",
    "\n",
    "It's worth noting that not all programming languages support multiple inheritance, and some languages provide alternatives like interfaces or mixins to achieve similar functionality while mitigating some of the complexities associated with multiple inheritance.\n",
    "\n",
    "\n",
    "\n",
    "\n",
    "\n",
    "# 2\n",
    "Delegation is a programming concept where an object passes on a method call to another object to perform the requested operation. Instead of implementing the functionality directly, the delegating object relies on another object, known as the delegate, to handle the task on its behalf.\n",
    "\n",
    "In delegation, the delegating object holds a reference to the delegate object and forwards method calls to it. This allows the delegating object to leverage the capabilities of the delegate without having to implement the functionality itself. Delegation promotes code reuse, modularity, and separation of concerns by allowing objects to collaborate and share responsibilities.\n",
    "\n",
    "Delegation can be seen as an alternative to inheritance when it comes to extending functionality or adding specialized behavior to objects. Rather than inheriting from a superclass and inheriting all of its attributes and methods, an object can delegate specific tasks to other objects that are designed to handle those tasks more efficiently or appropriately.\n",
    "\n",
    "Here's a simplified example to illustrate the concept of delegation:"
   ]
  },
  {
   "cell_type": "code",
   "execution_count": 1,
   "id": "b8af3171",
   "metadata": {},
   "outputs": [],
   "source": [
    "class Logger:\n",
    "    def __init__(self, log_file):\n",
    "        self.log_file = log_file\n",
    "\n",
    "    def log(self, message):\n",
    "        with open(self.log_file, 'a') as file:\n",
    "            file.write(message + '\\n')\n",
    "\n",
    "class UserManager:\n",
    "    def __init__(self):\n",
    "        self.logger = Logger('app.log')\n",
    "\n",
    "    def create_user(self, username):\n",
    "        # Perform user creation logic\n",
    "        self.logger.log(f\"User '{username}' created successfully.\")\n",
    "\n",
    "# Usage\n",
    "user_manager = UserManager()\n",
    "user_manager.create_user('John')\n"
   ]
  },
  {
   "cell_type": "markdown",
   "id": "0bedbba6",
   "metadata": {},
   "source": [
    "# 3\n",
    "Composition is a fundamental concept in object-oriented programming that involves constructing complex objects by combining or \"composing\" simpler objects. It is a way of creating relationships between objects where one object contains or is composed of other objects.\n",
    "\n",
    "In composition, an object is composed of one or more other objects, referred to as its component objects or parts. The composed object maintains a reference to its component objects and delegates some of its responsibilities or operations to them.\n",
    "\n",
    "Composition allows objects to be built as modular, reusable components that can be combined in various ways to form more complex structures. It promotes code reuse, encapsulation, and flexibility by providing a mechanism for creating objects with well-defined roles and responsibilities.\n",
    "\n",
    "Here's a simplified example to illustrate the concept of composition:\n",
    "\n",
    "python"
   ]
  },
  {
   "cell_type": "code",
   "execution_count": 2,
   "id": "a4313092",
   "metadata": {},
   "outputs": [
    {
     "name": "stdout",
     "output_type": "stream",
     "text": [
      "Engine started.\n",
      "Car started.\n",
      "Engine stopped.\n",
      "Car stopped.\n"
     ]
    }
   ],
   "source": [
    "class Engine:\n",
    "    def start(self):\n",
    "        print(\"Engine started.\")\n",
    "\n",
    "    def stop(self):\n",
    "        print(\"Engine stopped.\")\n",
    "\n",
    "class Car:\n",
    "    def __init__(self):\n",
    "        self.engine = Engine()\n",
    "\n",
    "    def start(self):\n",
    "        self.engine.start()\n",
    "        print(\"Car started.\")\n",
    "\n",
    "    def stop(self):\n",
    "        self.engine.stop()\n",
    "        print(\"Car stopped.\")\n",
    "\n",
    "# Usage\n",
    "car = Car()\n",
    "car.start()  # Output: Engine started. Car started.\n",
    "car.stop()   # Output: Engine stopped. Car stopped.\n"
   ]
  },
  {
   "cell_type": "markdown",
   "id": "bb364b1f",
   "metadata": {},
   "source": [
    "# 4\n",
    "In Python, a bound method is a method that is associated with an instance of a class. It is a callable object that can be invoked on an instance of the class, and it automatically passes the instance as the first argument (conventionally named self) when the method is called. This binding of the method to the instance is done automatically by Python.\n",
    "\n",
    "When a bound method is called, it operates on the specific instance to which it is bound. It has access to the instance's attributes and can manipulate its state. Bound methods are useful for performing operations specific to an instance of a class.\n",
    "\n",
    "Here's an example to demonstrate bound methods:"
   ]
  },
  {
   "cell_type": "code",
   "execution_count": 3,
   "id": "1cffa422",
   "metadata": {},
   "outputs": [
    {
     "name": "stdout",
     "output_type": "stream",
     "text": [
      "Value: 42\n"
     ]
    }
   ],
   "source": [
    "class MyClass:\n",
    "    def __init__(self, value):\n",
    "        self.value = value\n",
    "\n",
    "    def method(self):\n",
    "        print(\"Value:\", self.value)\n",
    "\n",
    "# Creating an instance of MyClass\n",
    "my_instance = MyClass(42)\n",
    "\n",
    "# Accessing and invoking the bound method\n",
    "my_instance.method()  # Output: Value: 42\n"
   ]
  },
  {
   "cell_type": "markdown",
   "id": "d3c80127",
   "metadata": {},
   "source": [
    "# 5\n",
    "In Python, pseudoprivate attributes are a convention for naming instance variables in a way that indicates that they are intended for internal use within a class and should not be accessed or modified directly from outside the class. Pseudoprivate attributes are not enforced by the language itself, but rather they are a naming convention followed by developers to indicate privacy and discourage direct access.\n",
    "\n",
    "The purpose of pseudoprivate attributes is to provide encapsulation and information hiding within a class. By prefixing an attribute with double underscores (e.g., __attribute), it signals to other developers that the attribute is intended for internal use and should not be accessed directly. This convention helps to prevent unintentional modification or misuse of class attributes by external code, reducing the risk of accidental bugs and ensuring better control over the class's internal state.\n",
    "\n",
    "Here's an example to illustrate the use of pseudoprivate attributes:"
   ]
  },
  {
   "cell_type": "code",
   "execution_count": 6,
   "id": "83a16623",
   "metadata": {},
   "outputs": [
    {
     "name": "stdout",
     "output_type": "stream",
     "text": [
      "42\n",
      "Accessing pseudoprivate attribute: 42\n"
     ]
    }
   ],
   "source": [
    "class MyClass:\n",
    "    def __init__(self):\n",
    "        self.__attribute = 42\n",
    "\n",
    "    def method(self):\n",
    "        print(\"Accessing pseudoprivate attribute:\", self.__attribute)\n",
    "\n",
    "# Creating an instance of MyClass\n",
    "my_instance = MyClass()\n",
    "\n",
    "# Accessing pseudoprivate attribute directly using the mangled name\n",
    "print(my_instance._MyClass__attribute)  # Output: 42\n",
    "\n",
    "# Accessing pseudoprivate attribute through a method\n",
    "my_instance.method()  # Output: Accessing pseudoprivate attribute: 42\n"
   ]
  },
  {
   "cell_type": "code",
   "execution_count": null,
   "id": "1d90c5d8",
   "metadata": {},
   "outputs": [],
   "source": []
  }
 ],
 "metadata": {
  "kernelspec": {
   "display_name": "Python 3 (ipykernel)",
   "language": "python",
   "name": "python3"
  },
  "language_info": {
   "codemirror_mode": {
    "name": "ipython",
    "version": 3
   },
   "file_extension": ".py",
   "mimetype": "text/x-python",
   "name": "python",
   "nbconvert_exporter": "python",
   "pygments_lexer": "ipython3",
   "version": "3.10.9"
  }
 },
 "nbformat": 4,
 "nbformat_minor": 5
}
